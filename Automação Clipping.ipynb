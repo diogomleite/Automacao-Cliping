{
 "cells": [
  {
   "cell_type": "code",
   "execution_count": 1,
   "id": "3c634c26",
   "metadata": {},
   "outputs": [],
   "source": [
    "from selenium import webdriver\n",
    "from selenium.webdriver.common.keys import Keys\n",
    "import pyperclip\n",
    "import pandas as pd\n",
    "from selenium.webdriver.common.by import By\n",
    "from selenium.webdriver.support.select import Select\n",
    "import time\n",
    "import pyautogui\n",
    "from datetime import date\n",
    "import os\n",
    "import xlrd\n",
    "from pandas.io.formats import style\n",
    "import matplotlib as plt\n",
    "import numpy as np"
   ]
  },
  {
   "cell_type": "markdown",
   "id": "70dc42f9",
   "metadata": {},
   "source": [
    "# Inputs\n",
    "\n",
    "Na célula a seguir, insira as datas inicial e final do período a constar no relatório (no formato dd/mm/aaaa) e o mês ao qual o relatório corresponde (por extenso)."
   ]
  },
  {
   "cell_type": "code",
   "execution_count": 2,
   "id": "2f8520b4",
   "metadata": {
    "scrolled": true
   },
   "outputs": [
    {
     "name": "stdout",
     "output_type": "stream",
     "text": [
      "Data Inicial:01/01/2023\n",
      "Data Final:31/01/2023\n",
      "Mês:Janeiro\n"
     ]
    }
   ],
   "source": [
    "#Setar parâmetros\n",
    "data_inicial = str(input('Data Inicial:'))\n",
    "data_final = str(input('Data Final:'))\n",
    "mes_relatorio = str(input('Mês:'))\n",
    "data = date.today()\n",
    "ano = data.strftime('%Y')\n",
    "mes = data.strftime('%m')\n",
    "dia = data.strftime('%d')"
   ]
  },
  {
   "cell_type": "code",
   "execution_count": 3,
   "id": "52165765",
   "metadata": {
    "scrolled": false
   },
   "outputs": [
    {
     "name": "stderr",
     "output_type": "stream",
     "text": [
      "C:\\Users\\Diogo\\AppData\\Local\\Temp\\ipykernel_57792\\3783645133.py:65: FutureWarning: The default value of regex will change from True to False in a future version. In addition, single character regular expressions will *not* be treated as literal strings when regex=True.\n",
      "  df['Retorno de mídia'] = df['Retorno de mídia'].str.replace('.', '')\n",
      "C:\\Users\\Diogo\\AppData\\Local\\Temp\\ipykernel_57792\\3783645133.py:74: FutureWarning: The frame.append method is deprecated and will be removed from pandas in a future version. Use pandas.concat instead.\n",
      "  df = df.append({'Título': 'TOTAL', 'Audiência': audiencia_BHN, 'Retorno de mídia': valoracao_BHN}, ignore_index=True)\n",
      "C:\\Users\\Diogo\\AppData\\Local\\Temp\\ipykernel_57792\\3783645133.py:154: FutureWarning: The default value of regex will change from True to False in a future version. In addition, single character regular expressions will *not* be treated as literal strings when regex=True.\n",
      "  df['Retorno de mídia'] = df['Retorno de mídia'].str.replace('.', '')\n",
      "C:\\Users\\Diogo\\AppData\\Local\\Temp\\ipykernel_57792\\3783645133.py:163: FutureWarning: The frame.append method is deprecated and will be removed from pandas in a future version. Use pandas.concat instead.\n",
      "  df = df.append({'Título': 'TOTAL', 'Audiência': audiencia_Incomm, 'Retorno de mídia': valoracao_Incomm}, ignore_index=True)\n",
      "C:\\Users\\Diogo\\AppData\\Local\\Temp\\ipykernel_57792\\3783645133.py:243: FutureWarning: The default value of regex will change from True to False in a future version. In addition, single character regular expressions will *not* be treated as literal strings when regex=True.\n",
      "  df['Retorno de mídia'] = df['Retorno de mídia'].str.replace('.', '')\n",
      "C:\\Users\\Diogo\\AppData\\Local\\Temp\\ipykernel_57792\\3783645133.py:252: FutureWarning: The frame.append method is deprecated and will be removed from pandas in a future version. Use pandas.concat instead.\n",
      "  df = df.append({'Título': 'TOTAL', 'Audiência': audiencia_epay, 'Retorno de mídia': valoracao_epay}, ignore_index=True)\n"
     ]
    }
   ],
   "source": [
    "s = 0\n",
    "\n",
    "while(s >= 0):\n",
    "    if(s==0):\n",
    "    #Chegar na busca\n",
    "        nav = webdriver.Chrome()\n",
    "        nav.get(r'https://portalsinopress.com.br/sgc/identificador.php?_anterior=https%3A%2F%2Fportalsinopress.com.br%2Fsgc%2Findex.php%3F')\n",
    "        nav.find_element('xpath', '//*[@id=\"_email\"]').send_keys('EMAIL', Keys.TAB)\n",
    "        nav.find_element('xpath', '//*[@id=\"_senha\"]').send_keys('SENHA', Keys.ENTER)\n",
    "        nav.find_element('xpath', '//*[@id=\"moldura_meio_menu\"]/a[1]/img').click()\n",
    "        time.sleep(3)\n",
    "\n",
    "        #Seleções - BHN\n",
    "        select_element = nav.find_element('name', '_id_pessoa')\n",
    "        select = Select(select_element)\n",
    "        select.select_by_visible_text('BLACKHAWK NETWORK')\n",
    "        time.sleep(3)\n",
    "        select_element = nav.find_element('name', '_id_classificacao')\n",
    "        select = Select(select_element)\n",
    "        select.select_by_visible_text('Blackhawk Network')\n",
    "        nav.find_element('xpath', '//*[@id=\"formulario_busca_avancada\"]/span[2]/label[2]').click()\n",
    "\n",
    "        #Inserção de parâmetros padrão\n",
    "        nav.find_element('xpath', '//*[@id=\"_busca_data_inicial\"]').send_keys(data_inicial)\n",
    "        nav.find_element('xpath', '//*[@id=\"_busca_data_final\"]').send_keys(data_final)\n",
    "        time.sleep(3)\n",
    "        nav.find_element('xpath', '//*[@id=\"formulario_busca_avancada\"]/a/img').click()\n",
    "        time.sleep(4)\n",
    "        nav.find_element('xpath', '//*[@id=\"formulario_conteiner_clipping\"]/div[2]/label/span').click()\n",
    "        time.sleep(3)\n",
    "        nav.find_element('xpath', '//*[@id=\"receptor_detalhe_meio\"]/div[3]/form[2]/input[5]').click()\n",
    "        time.sleep(5)\n",
    "        nav.switch_to.window(nav.window_handles[1])\n",
    "        nav.find_element('xpath', '/html/body/form/label[1]').click()\n",
    "        nav.find_element('xpath', '/html/body/form/label[8]').click()\n",
    "        nav.find_element('xpath', '/html/body/form/label[9]').click()\n",
    "        nav.find_element('xpath', '/html/body/form/label[37]').click()\n",
    "        nav.find_element('xpath', '/html/body/form/label[3]').click()\n",
    "        nav.find_element('xpath', '/html/body/form/label[10]').click()\n",
    "        nav.find_element('xpath', '/html/body/form/label[18]').click()\n",
    "        nav.find_element('xpath', '/html/body/form/label[16]').click()\n",
    "        nav.find_element('xpath', '/html/body/form/label[4]').click()\n",
    "        nav.find_element('xpath', '/html/body/form/label[12]').click()\n",
    "        nav.find_element('xpath', '/html/body/form/label[17]').click()\n",
    "        nav.find_element('xpath', '/html/body/form/input[5]').click()\n",
    "\n",
    "        time.sleep(5)\n",
    "        nav.quit()\n",
    "        \n",
    "        #Arrumar a tabela\n",
    "        nome = f'relatorio_{dia}_{mes}_{ano}.xls'\n",
    "\n",
    "        dir = r'C:\\Users\\Diogo\\Downloads'\n",
    "        old_file = os.path.join(dir, nome)\n",
    "        new_file = os.path.join(dir, f'Dados de clipping.xls')\n",
    "\n",
    "        os.rename(old_file, new_file)\n",
    "\n",
    "        df = xlrd.open_workbook(r\"C:\\Users\\Diogo\\Downloads\\Dados de clipping.xls\", formatting_info=True, ignore_workbook_corruption=True)\n",
    "        df = pd.read_excel(df)\n",
    "        df.to_csv(r'C:\\Users\\Diogo\\Downloads\\teste.csv')\n",
    "        df = pd.read_csv(r'C:\\Users\\Diogo\\Downloads\\teste.csv')\n",
    "\n",
    "        df['Retorno de mídia'] = df['Retorno de mídia'].astype(str)\n",
    "        df['Retorno de mídia'] = df['Retorno de mídia'].str.replace('.', '')\n",
    "        df['Retorno de mídia'] = df['Retorno de mídia'].str.replace(',', '.')\n",
    "        df['Retorno de mídia'] = df['Retorno de mídia'].astype(float)\n",
    "\n",
    "        df = df.drop('Unnamed: 0', axis=1)\n",
    "\n",
    "        audiencia_BHN = df['Audiência'].sum()\n",
    "        valoracao_BHN = df['Retorno de mídia'].sum()\n",
    "        materias_BHN = len(df.index)\n",
    "        df = df.append({'Título': 'TOTAL', 'Audiência': audiencia_BHN, 'Retorno de mídia': valoracao_BHN}, ignore_index=True)\n",
    "\n",
    "        df = pd.io.formats.style.Styler(df, decimal = ',', thousands = '.')\n",
    "\n",
    "        df.to_excel(r'C:\\Users\\Diogo\\Downloads\\provisorio.xlsx')\n",
    "\n",
    "        #Nomear final\n",
    "        nome = f'Dados de clipping - BHN - {mes_relatorio} de {ano}.xls'\n",
    "\n",
    "        dir = r'C:\\Users\\Diogo\\Downloads'\n",
    "        old_file = os.path.join(dir, 'provisorio.xlsx')\n",
    "        new_file = os.path.join(dir, nome)\n",
    "\n",
    "        os.rename(old_file, new_file)\n",
    "        os.remove(r\"C:\\Users\\Diogo\\Downloads\\teste.csv\")\n",
    "        os.remove(r\"C:\\Users\\Diogo\\Downloads\\Dados de clipping.xls\")\n",
    "\n",
    "        s += 1\n",
    "    \n",
    "    if(s==1):\n",
    "    #Chegar na busca\n",
    "        nav = webdriver.Chrome()\n",
    "        nav.get(r'https://portalsinopress.com.br/sgc/identificador.php?_anterior=https%3A%2F%2Fportalsinopress.com.br%2Fsgc%2Findex.php%3F')\n",
    "        nav.find_element('xpath', '//*[@id=\"_email\"]').send_keys('EMAIL', Keys.TAB)\n",
    "        nav.find_element('xpath', '//*[@id=\"_senha\"]').send_keys('SENHA', Keys.ENTER)\n",
    "        nav.find_element('xpath', '//*[@id=\"moldura_meio_menu\"]/a[1]/img').click()\n",
    "        time.sleep(3)\n",
    "\n",
    "        #Seleções - BHN\n",
    "        select_element = nav.find_element('name', '_id_pessoa')\n",
    "        select = Select(select_element)\n",
    "        select.select_by_visible_text('BLACKHAWK NETWORK')\n",
    "        time.sleep(3)\n",
    "        select_element = nav.find_element('name', '_id_classificacao')\n",
    "        select = Select(select_element)\n",
    "        select.select_by_visible_text('INCOMM')\n",
    "        nav.find_element('xpath', '//*[@id=\"formulario_busca_avancada\"]/span[2]/label[2]').click()\n",
    "\n",
    "        #Inserção de parâmetros padrão\n",
    "        nav.find_element('xpath', '//*[@id=\"_busca_data_inicial\"]').send_keys(data_inicial)\n",
    "        nav.find_element('xpath', '//*[@id=\"_busca_data_final\"]').send_keys(data_final)\n",
    "        time.sleep(3)\n",
    "        nav.find_element('xpath', '//*[@id=\"formulario_busca_avancada\"]/a/img').click()\n",
    "        time.sleep(4)\n",
    "        nav.find_element('xpath', '//*[@id=\"formulario_conteiner_clipping\"]/div[2]/label/span').click()\n",
    "        time.sleep(3)\n",
    "        nav.find_element('xpath', '//*[@id=\"receptor_detalhe_meio\"]/div[3]/form[2]/input[5]').click()\n",
    "        time.sleep(5)\n",
    "        nav.switch_to.window(nav.window_handles[1])\n",
    "        nav.find_element('xpath', '/html/body/form/label[1]').click()\n",
    "        nav.find_element('xpath', '/html/body/form/label[8]').click()\n",
    "        nav.find_element('xpath', '/html/body/form/label[9]').click()\n",
    "        nav.find_element('xpath', '/html/body/form/label[37]').click()\n",
    "        nav.find_element('xpath', '/html/body/form/label[3]').click()\n",
    "        nav.find_element('xpath', '/html/body/form/label[10]').click()\n",
    "        nav.find_element('xpath', '/html/body/form/label[18]').click()\n",
    "        nav.find_element('xpath', '/html/body/form/label[16]').click()\n",
    "        nav.find_element('xpath', '/html/body/form/label[4]').click()\n",
    "        nav.find_element('xpath', '/html/body/form/label[12]').click()\n",
    "        nav.find_element('xpath', '/html/body/form/label[17]').click()\n",
    "        nav.find_element('xpath', '/html/body/form/input[5]').click()\n",
    "\n",
    "        time.sleep(5)\n",
    "        nav.quit()\n",
    "        \n",
    "        #Arrumar a tabela\n",
    "        nome = f'relatorio_{dia}_{mes}_{ano}.xls'\n",
    "\n",
    "        dir = r'C:\\Users\\Diogo\\Downloads'\n",
    "        old_file = os.path.join(dir, nome)\n",
    "        new_file = os.path.join(dir, f'Dados de clipping.xls')\n",
    "\n",
    "        os.rename(old_file, new_file)\n",
    "\n",
    "        df = xlrd.open_workbook(r\"C:\\Users\\Diogo\\Downloads\\Dados de clipping.xls\", formatting_info=True, ignore_workbook_corruption=True)\n",
    "        df = pd.read_excel(df)\n",
    "        df.to_csv(r'C:\\Users\\Diogo\\Downloads\\teste.csv')\n",
    "        df = pd.read_csv(r'C:\\Users\\Diogo\\Downloads\\teste.csv')\n",
    "\n",
    "        df['Retorno de mídia'] = df['Retorno de mídia'].astype(str)\n",
    "        df['Retorno de mídia'] = df['Retorno de mídia'].str.replace('.', '')\n",
    "        df['Retorno de mídia'] = df['Retorno de mídia'].str.replace(',', '.')\n",
    "        df['Retorno de mídia'] = df['Retorno de mídia'].astype(float)\n",
    "\n",
    "        df = df.drop('Unnamed: 0', axis=1)\n",
    "\n",
    "        audiencia_Incomm = df['Audiência'].sum()\n",
    "        valoracao_Incomm = df['Retorno de mídia'].sum()\n",
    "        materias_Incomm = len(df.index)\n",
    "        df = df.append({'Título': 'TOTAL', 'Audiência': audiencia_Incomm, 'Retorno de mídia': valoracao_Incomm}, ignore_index=True)\n",
    "\n",
    "        df = pd.io.formats.style.Styler(df, decimal = ',', thousands = '.')\n",
    "\n",
    "        df.to_excel(r'C:\\Users\\Diogo\\Downloads\\provisorio.xlsx')\n",
    "\n",
    "        #Nomear final\n",
    "        nome = f'Dados de clipping - Incomm - {mes_relatorio} de {ano}.xls'\n",
    "\n",
    "        dir = r'C:\\Users\\Diogo\\Downloads'\n",
    "        old_file = os.path.join(dir, 'provisorio.xlsx')\n",
    "        new_file = os.path.join(dir, nome)\n",
    "\n",
    "        os.rename(old_file, new_file)\n",
    "        os.remove(r\"C:\\Users\\Diogo\\Downloads\\teste.csv\")\n",
    "        os.remove(r\"C:\\Users\\Diogo\\Downloads\\Dados de clipping.xls\")\n",
    "\n",
    "        s += 1\n",
    "        \n",
    "    if(s==2):\n",
    "    #Chegar na busca\n",
    "        nav = webdriver.Chrome()\n",
    "        nav.get(r'https://portalsinopress.com.br/sgc/identificador.php?_anterior=https%3A%2F%2Fportalsinopress.com.br%2Fsgc%2Findex.php%3F')\n",
    "        nav.find_element('xpath', '//*[@id=\"_email\"]').send_keys('EMAIL', Keys.TAB)\n",
    "        nav.find_element('xpath', '//*[@id=\"_senha\"]').send_keys('SENHA', Keys.ENTER)\n",
    "        nav.find_element('xpath', '//*[@id=\"moldura_meio_menu\"]/a[1]/img').click()\n",
    "        time.sleep(3)\n",
    "\n",
    "        #Seleções - BHN\n",
    "        select_element = nav.find_element('name', '_id_pessoa')\n",
    "        select = Select(select_element)\n",
    "        select.select_by_visible_text('BLACKHAWK NETWORK')\n",
    "        time.sleep(3)\n",
    "        select_element = nav.find_element('name', '_id_classificacao')\n",
    "        select = Select(select_element)\n",
    "        select.select_by_visible_text('EPAY')\n",
    "        nav.find_element('xpath', '//*[@id=\"formulario_busca_avancada\"]/span[2]/label[2]').click()\n",
    "\n",
    "        #Inserção de parâmetros padrão\n",
    "        nav.find_element('xpath', '//*[@id=\"_busca_data_inicial\"]').send_keys(data_inicial)\n",
    "        nav.find_element('xpath', '//*[@id=\"_busca_data_final\"]').send_keys(data_final)\n",
    "        time.sleep(3)\n",
    "        nav.find_element('xpath', '//*[@id=\"formulario_busca_avancada\"]/a/img').click()\n",
    "        time.sleep(4)\n",
    "        nav.find_element('xpath', '//*[@id=\"formulario_conteiner_clipping\"]/div[2]/label/span').click()\n",
    "        time.sleep(3)\n",
    "        nav.find_element('xpath', '//*[@id=\"receptor_detalhe_meio\"]/div[3]/form[2]/input[5]').click()\n",
    "        time.sleep(5)\n",
    "        nav.switch_to.window(nav.window_handles[1])\n",
    "        nav.find_element('xpath', '/html/body/form/label[1]').click()\n",
    "        nav.find_element('xpath', '/html/body/form/label[8]').click()\n",
    "        nav.find_element('xpath', '/html/body/form/label[9]').click()\n",
    "        nav.find_element('xpath', '/html/body/form/label[37]').click()\n",
    "        nav.find_element('xpath', '/html/body/form/label[3]').click()\n",
    "        nav.find_element('xpath', '/html/body/form/label[10]').click()\n",
    "        nav.find_element('xpath', '/html/body/form/label[18]').click()\n",
    "        nav.find_element('xpath', '/html/body/form/label[16]').click()\n",
    "        nav.find_element('xpath', '/html/body/form/label[4]').click()\n",
    "        nav.find_element('xpath', '/html/body/form/label[12]').click()\n",
    "        nav.find_element('xpath', '/html/body/form/label[17]').click()\n",
    "        nav.find_element('xpath', '/html/body/form/input[5]').click()\n",
    "\n",
    "        time.sleep(5)\n",
    "        nav.quit()\n",
    "        \n",
    "        #Arrumar a tabela\n",
    "        nome = f'relatorio_{dia}_{mes}_{ano}.xls'\n",
    "\n",
    "        dir = r'C:\\Users\\Diogo\\Downloads'\n",
    "        old_file = os.path.join(dir, nome)\n",
    "        new_file = os.path.join(dir, f'Dados de clipping.xls')\n",
    "\n",
    "        os.rename(old_file, new_file)\n",
    "\n",
    "        df = xlrd.open_workbook(r\"C:\\Users\\Diogo\\Downloads\\Dados de clipping.xls\", formatting_info=True, ignore_workbook_corruption=True)\n",
    "        df = pd.read_excel(df)\n",
    "        df.to_csv(r'C:\\Users\\Diogo\\Downloads\\teste.csv')\n",
    "        df = pd.read_csv(r'C:\\Users\\Diogo\\Downloads\\teste.csv')\n",
    "\n",
    "        df['Retorno de mídia'] = df['Retorno de mídia'].astype(str)\n",
    "        df['Retorno de mídia'] = df['Retorno de mídia'].str.replace('.', '')\n",
    "        df['Retorno de mídia'] = df['Retorno de mídia'].str.replace(',', '.')\n",
    "        df['Retorno de mídia'] = df['Retorno de mídia'].astype(float)\n",
    "\n",
    "        df = df.drop('Unnamed: 0', axis=1)\n",
    "\n",
    "        audiencia_epay = df['Audiência'].sum()\n",
    "        valoracao_epay = df['Retorno de mídia'].sum()\n",
    "        materias_epay = len(df.index)\n",
    "        df = df.append({'Título': 'TOTAL', 'Audiência': audiencia_epay, 'Retorno de mídia': valoracao_epay}, ignore_index=True)\n",
    "\n",
    "        df = pd.io.formats.style.Styler(df, decimal = ',', thousands = '.')\n",
    "\n",
    "        df.to_excel(r'C:\\Users\\Diogo\\Downloads\\provisorio.xlsx')\n",
    "\n",
    "        #Nomear final\n",
    "        nome = f'Dados de clipping - Epay - {mes_relatorio} de {ano}.xls'\n",
    "\n",
    "        dir = r'C:\\Users\\Diogo\\Downloads'\n",
    "        old_file = os.path.join(dir, 'provisorio.xlsx')\n",
    "        new_file = os.path.join(dir, nome)\n",
    "\n",
    "        os.rename(old_file, new_file)\n",
    "        os.remove(r\"C:\\Users\\Diogo\\Downloads\\teste.csv\")\n",
    "        os.remove(r\"C:\\Users\\Diogo\\Downloads\\Dados de clipping.xls\")\n",
    "\n",
    "        s = -1"
   ]
  },
  {
   "cell_type": "code",
   "execution_count": 4,
   "id": "7550bec5",
   "metadata": {},
   "outputs": [
    {
     "data": {
      "text/html": [
       "<div>\n",
       "<style scoped>\n",
       "    .dataframe tbody tr th:only-of-type {\n",
       "        vertical-align: middle;\n",
       "    }\n",
       "\n",
       "    .dataframe tbody tr th {\n",
       "        vertical-align: top;\n",
       "    }\n",
       "\n",
       "    .dataframe thead th {\n",
       "        text-align: right;\n",
       "    }\n",
       "</style>\n",
       "<table border=\"1\" class=\"dataframe\">\n",
       "  <thead>\n",
       "    <tr style=\"text-align: right;\">\n",
       "      <th></th>\n",
       "      <th>Empresa</th>\n",
       "      <th>Valoração</th>\n",
       "      <th>Audiência</th>\n",
       "      <th>Matérias</th>\n",
       "    </tr>\n",
       "  </thead>\n",
       "  <tbody>\n",
       "    <tr>\n",
       "      <th>0</th>\n",
       "      <td>BHN</td>\n",
       "      <td>296345.45</td>\n",
       "      <td>312755.0</td>\n",
       "      <td>17</td>\n",
       "    </tr>\n",
       "    <tr>\n",
       "      <th>1</th>\n",
       "      <td>Incomm</td>\n",
       "      <td>1362489.01</td>\n",
       "      <td>359713.0</td>\n",
       "      <td>3</td>\n",
       "    </tr>\n",
       "    <tr>\n",
       "      <th>2</th>\n",
       "      <td>Epay</td>\n",
       "      <td>842067.70</td>\n",
       "      <td>801536.0</td>\n",
       "      <td>7</td>\n",
       "    </tr>\n",
       "  </tbody>\n",
       "</table>\n",
       "</div>"
      ],
      "text/plain": [
       "  Empresa   Valoração  Audiência  Matérias\n",
       "0     BHN   296345.45   312755.0        17\n",
       "1  Incomm  1362489.01   359713.0         3\n",
       "2    Epay   842067.70   801536.0         7"
      ]
     },
     "metadata": {},
     "output_type": "display_data"
    }
   ],
   "source": [
    "dados = [['BHN', valoracao_BHN, audiencia_BHN, materias_BHN],\n",
    "        ['Incomm', valoracao_Incomm, audiencia_Incomm, materias_Incomm],\n",
    "        ['Epay', valoracao_epay, audiencia_epay, materias_epay]]\n",
    "\n",
    "df = pd.DataFrame(dados, columns=['Empresa', 'Valoração', 'Audiência', 'Matérias'])\n",
    "\n",
    "df['Audiência'] = df['Audiência'].astype(float)\n",
    "    \n",
    "display(df)"
   ]
  },
  {
   "cell_type": "markdown",
   "id": "85adabc9",
   "metadata": {},
   "source": [
    "# Gráficos\n",
    "\n",
    "A partir daqui, serão plotados os gráficos com comparativos dos dados principais do clipping. Basta copiá-los e inserir na apresentação do relatório. "
   ]
  },
  {
   "cell_type": "code",
   "execution_count": 5,
   "id": "1ab0be40",
   "metadata": {},
   "outputs": [
    {
     "data": {
      "image/png": "[encoded data removed]",
      "text/plain": [
       "<Figure size 432x288 with 1 Axes>"
      ]
     },
     "metadata": {
      "needs_background": "light"
     },
     "output_type": "display_data"
    }
   ],
   "source": [
    "fig, ax = plt.pyplot.subplots()\n",
    "\n",
    "p1 = ax.bar(df['Empresa'], df['Matérias'], color = '#80CC00')\n",
    "\n",
    "# Label with label_type 'center' instead of the default 'edge'\n",
    "ax.bar_label(p1, label_type='edge', size = 12)\n",
    "ax.set_ylim([0, df['Matérias'].max() + 5])\n",
    "plt.pyplot.title(f'Total de Matérias - {mes_relatorio}')\n",
    "\n",
    "plt.pyplot.show()"
   ]
  },
  {
   "cell_type": "code",
   "execution_count": 6,
   "id": "56a935ac",
   "metadata": {},
   "outputs": [
    {
     "data": {
      "image/png": "[encoded data removed]",
      "text/plain": [
       "<Figure size 432x288 with 1 Axes>"
      ]
     },
     "metadata": {
      "needs_background": "light"
     },
     "output_type": "display_data"
    }
   ],
   "source": [
    "audiência = df['Audiência'].tolist()\n",
    "labels = []\n",
    "for i in [0, 1, 2]:\n",
    "    label = f'{audiência[i]:_.0f}'\n",
    "    label = label.replace('.', ',').replace('_', '.')\n",
    "    labels.append(label)\n",
    "\n",
    "fig, ax = plt.pyplot.subplots()\n",
    "\n",
    "p1 = ax.bar(df['Empresa'], df['Audiência'], color = '#80CC00')\n",
    "\n",
    "# Label with label_type 'center' instead of the default 'edge'\n",
    "ax.bar_label(p1, labels = labels, label_type='edge', size = 12)\n",
    "ax.set_ylim([0, df['Audiência'].max() + 100000])\n",
    "plt.pyplot.title(f'Audiência - {mes_relatorio}')\n",
    "\n",
    "plt.pyplot.show()"
   ]
  },
  {
   "cell_type": "code",
   "execution_count": 7,
   "id": "3d1abc35",
   "metadata": {},
   "outputs": [
    {
     "data": {
      "image/png": "[encoded data removed]",
      "text/plain": [
       "<Figure size 432x288 with 1 Axes>"
      ]
     },
     "metadata": {
      "needs_background": "light"
     },
     "output_type": "display_data"
    }
   ],
   "source": [
    "fig, ax = plt.pyplot.subplots()\n",
    "\n",
    "p1 = ax.bar(df['Empresa'], df['Valoração'], color = '#80CC00')\n",
    "\n",
    "plt.pyplot.title(f'Valoração - {mes_relatorio}')\n",
    "ax.set_ylim([0, df['Valoração'].max() + 100000])\n",
    "\n",
    "#Ajeitar labels\n",
    "valoração = df['Valoração'].tolist()\n",
    "labels = []\n",
    "for i in [0, 1, 2]:\n",
    "    label = f'{valoração[i]:_.2f}'\n",
    "    label = label.replace('.', ',').replace('_', '.')\n",
    "    label = 'R$ ' + label\n",
    "    labels.append(label)\n",
    "\n",
    "ax.bar_label(p1, labels = labels, label_type='edge', size = 12)\n",
    "   \n",
    "df['Valoração'] = df['Valoração'].astype(float)\n",
    "\n",
    "plt.pyplot.show()"
   ]
  },
  {
   "cell_type": "code",
   "execution_count": 8,
   "id": "fe295497",
   "metadata": {
    "scrolled": true
   },
   "outputs": [
    {
     "name": "stderr",
     "output_type": "stream",
     "text": [
      "C:\\Users\\Diogo\\AppData\\Local\\Temp\\ipykernel_57792\\2721739079.py:3: FutureWarning: The frame.append method is deprecated and will be removed from pandas in a future version. Use pandas.concat instead.\n",
      "  df = df.append({'Audiência BHN': audiencia_BHN, 'Audiência Epay': audiencia_epay, 'Audiência Incomm': audiencia_Incomm,\n"
     ]
    },
    {
     "data": {
      "text/html": [
       "<div>\n",
       "<style scoped>\n",
       "    .dataframe tbody tr th:only-of-type {\n",
       "        vertical-align: middle;\n",
       "    }\n",
       "\n",
       "    .dataframe tbody tr th {\n",
       "        vertical-align: top;\n",
       "    }\n",
       "\n",
       "    .dataframe thead th {\n",
       "        text-align: right;\n",
       "    }\n",
       "</style>\n",
       "<table border=\"1\" class=\"dataframe\">\n",
       "  <thead>\n",
       "    <tr style=\"text-align: right;\">\n",
       "      <th></th>\n",
       "      <th>Audiência BHN</th>\n",
       "      <th>Audiência Epay</th>\n",
       "      <th>Audiência Incomm</th>\n",
       "      <th>Valoração BHN</th>\n",
       "      <th>Valoração Epay</th>\n",
       "      <th>Valoração Incomm</th>\n",
       "      <th>Matérias BHN</th>\n",
       "      <th>Matérias Epay</th>\n",
       "      <th>Matérias Incomm</th>\n",
       "    </tr>\n",
       "  </thead>\n",
       "  <tbody>\n",
       "    <tr>\n",
       "      <th>0</th>\n",
       "      <td>312755.0</td>\n",
       "      <td>801536.0</td>\n",
       "      <td>359713.0</td>\n",
       "      <td>296345.45</td>\n",
       "      <td>842067.7</td>\n",
       "      <td>1362489.01</td>\n",
       "      <td>17.0</td>\n",
       "      <td>7.0</td>\n",
       "      <td>3.0</td>\n",
       "    </tr>\n",
       "  </tbody>\n",
       "</table>\n",
       "</div>"
      ],
      "text/plain": [
       "  Audiência BHN Audiência Epay Audiência Incomm Valoração BHN Valoração Epay  \\\n",
       "0      312755.0       801536.0         359713.0     296345.45       842067.7   \n",
       "\n",
       "  Valoração Incomm Matérias BHN Matérias Epay Matérias Incomm  \n",
       "0       1362489.01         17.0           7.0             3.0  "
      ]
     },
     "metadata": {},
     "output_type": "display_data"
    }
   ],
   "source": [
    "df = pd.read_excel(r\"C:\\Users\\Diogo\\Downloads\\Dados para graficos Python.xlsx\")\n",
    "df = df.drop('Unnamed: 0', axis=1)\n",
    "df = df.append({'Audiência BHN': audiencia_BHN, 'Audiência Epay': audiencia_epay, 'Audiência Incomm': audiencia_Incomm,\n",
    "               'Valoração BHN': valoracao_BHN, 'Valoração Epay': valoracao_epay, 'Valoração Incomm': valoracao_Incomm,\n",
    "               'Matérias BHN': materias_BHN, 'Matérias Epay': materias_epay, 'Matérias Incomm': materias_Incomm}, ignore_index=True)\n",
    "display(df)"
   ]
  },
  {
   "cell_type": "code",
   "execution_count": 9,
   "id": "a413389f",
   "metadata": {},
   "outputs": [
    {
     "data": {
      "image/png": "[encoded data removed]",
      "text/plain": [
       "<Figure size 432x288 with 1 Axes>"
      ]
     },
     "metadata": {
      "needs_background": "light"
     },
     "output_type": "display_data"
    }
   ],
   "source": [
    "empresas = ['BHN', 'Incomm', 'Epay']\n",
    "matérias = [df['Matérias BHN'].sum(), df['Matérias Incomm'].sum(), df['Matérias Epay'].sum()]\n",
    "\n",
    "fig, ax = plt.pyplot.subplots()\n",
    "\n",
    "p1 = ax.bar(empresas, matérias, color = '#80CC00')\n",
    "\n",
    "# Label with label_type 'center' instead of the default 'edge'\n",
    "ax.bar_label(p1, label_type='edge', size = 12)\n",
    "ax.set_ylim([0, (max(matérias) + 5)])\n",
    "plt.pyplot.title(f'Total de Matérias - {ano}')\n",
    "\n",
    "plt.pyplot.show()"
   ]
  },
  {
   "cell_type": "code",
   "execution_count": 10,
   "id": "245191e8",
   "metadata": {},
   "outputs": [
    {
     "data": {
      "image/png": "[encoded data removed]",
      "text/plain": [
       "<Figure size 432x288 with 1 Axes>"
      ]
     },
     "metadata": {
      "needs_background": "light"
     },
     "output_type": "display_data"
    }
   ],
   "source": [
    "empresas = ['BHN', 'Incomm', 'Epay']\n",
    "audiência = [df['Audiência BHN'].sum(), df['Audiência Incomm'].sum(), df['Audiência Epay'].sum()]\n",
    "labels = []\n",
    "for i in [0, 1, 2]:\n",
    "    label = f'{audiência[i]:_.0f}'\n",
    "    label = label.replace('.', ',').replace('_', '.')\n",
    "    labels.append(label)\n",
    "\n",
    "fig, ax = plt.pyplot.subplots()\n",
    "\n",
    "p1 = ax.bar(empresas, audiência, color = '#80CC00')\n",
    "\n",
    "# Label with label_type 'center' instead of the default 'edge'\n",
    "ax.bar_label(p1, labels = labels, label_type='edge', size = 12)\n",
    "ax.set_ylim([0, (max(audiência) + 100000)])\n",
    "plt.pyplot.title(f'Audiência - {ano}')\n",
    "\n",
    "plt.pyplot.show()"
   ]
  },
  {
   "cell_type": "code",
   "execution_count": 11,
   "id": "1d5c4372",
   "metadata": {},
   "outputs": [
    {
     "data": {
      "image/png": "[encoded data removed]",
      "text/plain": [
       "<Figure size 432x288 with 1 Axes>"
      ]
     },
     "metadata": {
      "needs_background": "light"
     },
     "output_type": "display_data"
    }
   ],
   "source": [
    "empresas = ['BHN', 'Incomm', 'Epay']\n",
    "valoração = [df['Valoração BHN'].sum(), df['Valoração Incomm'].sum(), df['Valoração Epay'].sum()]\n",
    "\n",
    "dados = [[empresas[0], valoração[0]],\n",
    "        [empresas[1], valoração[1]],\n",
    "        [empresas[2], valoração[2]]]\n",
    "\n",
    "df2 = pd.DataFrame(dados, columns = ['empresas', 'valoração'])\n",
    "\n",
    "df2.style.format(thousands = '.', decimal = ',')\n",
    "\n",
    "fig, ax = plt.pyplot.subplots()\n",
    "\n",
    "p1 = ax.bar(df2['empresas'], df2['valoração'], color = '#80CC00')\n",
    "ax.set_ylim([0, (max(valoração) + 100000)])\n",
    "plt.pyplot.title(f'Valoração - {ano}')\n",
    "\n",
    "#Ajeitar labels\n",
    "labels = []\n",
    "for i in [0, 1, 2]:\n",
    "    label = f'{valoração[i]:_.2f}'\n",
    "    label = label.replace('.', ',').replace('_', '.')\n",
    "    label = 'R$ ' + label\n",
    "    labels.append(label)\n",
    "    \n",
    "ax.bar_label(p1, labels = labels, label_type='edge', size = 12)\n",
    "\n",
    "plt.pyplot.show()"
   ]
  },
  {
   "cell_type": "code",
   "execution_count": 12,
   "id": "eec519e3",
   "metadata": {},
   "outputs": [
    {
     "name": "stdout",
     "output_type": "stream",
     "text": [
      "01\n"
     ]
    }
   ],
   "source": [
    "mes = int(mes) - 1\n",
    "mes = '{:0>2}'.format(mes)\n",
    "print(mes)"
   ]
  },
  {
   "cell_type": "markdown",
   "id": "80974d8b",
   "metadata": {},
   "source": [
    "# Upload\n",
    "\n",
    "A célula a seguir faz upload dos arquivos gerados no repositório da empresa. Ao rodá-la, lembre-se de abrir a nova janela do Google que será criada e não mexa no mouse ou teclado até que a janela se feche."
   ]
  },
  {
   "cell_type": "code",
   "execution_count": 15,
   "id": "53902a01",
   "metadata": {
    "scrolled": true
   },
   "outputs": [
    {
     "ename": "NoSuchElementException",
     "evalue": "Message: no such element: Unable to locate element: {\"method\":\"xpath\",\"selector\":\"//*[@id=\"menubutton300\"]/span/div/span/span\"}\n  (Session info: chrome=109.0.5414.75)\nStacktrace:\nBacktrace:\n\t(No symbol) [0x00816643]\n\t(No symbol) [0x007ABE21]\n\t(No symbol) [0x006ADA9D]\n\t(No symbol) [0x006E1342]\n\t(No symbol) [0x006E147B]\n\t(No symbol) [0x00718DC2]\n\t(No symbol) [0x006FFDC4]\n\t(No symbol) [0x00716B09]\n\t(No symbol) [0x006FFB76]\n\t(No symbol) [0x006D49C1]\n\t(No symbol) [0x006D5E5D]\n\tGetHandleVerifier [0x00A8A142+2497106]\n\tGetHandleVerifier [0x00AB85D3+2686691]\n\tGetHandleVerifier [0x00ABBB9C+2700460]\n\tGetHandleVerifier [0x008C3B10+635936]\n\t(No symbol) [0x007B4A1F]\n\t(No symbol) [0x007BA418]\n\t(No symbol) [0x007BA505]\n\t(No symbol) [0x007C508B]\n\tBaseThreadInitThunk [0x76756BD9+25]\n\tRtlGetFullPathName_UEx [0x77AC8FD2+1218]\n\tRtlGetFullPathName_UEx [0x77AC8F9D+1165]\n",
     "output_type": "error",
     "traceback": [
      "\u001b[1;31m---------------------------------------------------------------------------\u001b[0m",
      "\u001b[1;31mNoSuchElementException\u001b[0m                    Traceback (most recent call last)",
      "Input \u001b[1;32mIn [15]\u001b[0m, in \u001b[0;36m<cell line: 16>\u001b[1;34m()\u001b[0m\n\u001b[0;32m     14\u001b[0m nav\u001b[38;5;241m.\u001b[39mfind_element(\u001b[38;5;124m'\u001b[39m\u001b[38;5;124mxpath\u001b[39m\u001b[38;5;124m'\u001b[39m, \u001b[38;5;124m'\u001b[39m\u001b[38;5;124m//*[@id=\u001b[39m\u001b[38;5;124m\"\u001b[39m\u001b[38;5;124mcontextmenutarget232\u001b[39m\u001b[38;5;124m\"\u001b[39m\u001b[38;5;124m]/div/div[2]/div/div[1]/div[1]/div/a\u001b[39m\u001b[38;5;124m'\u001b[39m)\u001b[38;5;241m.\u001b[39mclick()\n\u001b[0;32m     15\u001b[0m time\u001b[38;5;241m.\u001b[39msleep(\u001b[38;5;241m10\u001b[39m)\n\u001b[1;32m---> 16\u001b[0m \u001b[43mnav\u001b[49m\u001b[38;5;241;43m.\u001b[39;49m\u001b[43mfind_element\u001b[49m\u001b[43m(\u001b[49m\u001b[38;5;124;43m'\u001b[39;49m\u001b[38;5;124;43mxpath\u001b[39;49m\u001b[38;5;124;43m'\u001b[39;49m\u001b[43m,\u001b[49m\u001b[43m \u001b[49m\u001b[38;5;124;43m'\u001b[39;49m\u001b[38;5;124;43m//*[@id=\u001b[39;49m\u001b[38;5;124;43m\"\u001b[39;49m\u001b[38;5;124;43mmenubutton300\u001b[39;49m\u001b[38;5;124;43m\"\u001b[39;49m\u001b[38;5;124;43m]/span/div/span/span\u001b[39;49m\u001b[38;5;124;43m'\u001b[39;49m\u001b[43m)\u001b[49m\u001b[38;5;241m.\u001b[39mclick()\n\u001b[0;32m     17\u001b[0m time\u001b[38;5;241m.\u001b[39msleep(\u001b[38;5;241m5\u001b[39m)\n\u001b[0;32m     18\u001b[0m nav\u001b[38;5;241m.\u001b[39mfind_element(\u001b[38;5;124m'\u001b[39m\u001b[38;5;124mxpath\u001b[39m\u001b[38;5;124m'\u001b[39m, \u001b[38;5;124m'\u001b[39m\u001b[38;5;124m//*[@id=\u001b[39m\u001b[38;5;124m\"\u001b[39m\u001b[38;5;124mmenu299\u001b[39m\u001b[38;5;124m\"\u001b[39m\u001b[38;5;124m]/span/li/span\u001b[39m\u001b[38;5;124m'\u001b[39m)\u001b[38;5;241m.\u001b[39mclick()\n",
      "File \u001b[1;32m~\\anaconda3\\lib\\site-packages\\selenium\\webdriver\\remote\\webdriver.py:861\u001b[0m, in \u001b[0;36mWebDriver.find_element\u001b[1;34m(self, by, value)\u001b[0m\n\u001b[0;32m    858\u001b[0m     by \u001b[38;5;241m=\u001b[39m By\u001b[38;5;241m.\u001b[39mCSS_SELECTOR\n\u001b[0;32m    859\u001b[0m     value \u001b[38;5;241m=\u001b[39m \u001b[38;5;124m'\u001b[39m\u001b[38;5;124m[name=\u001b[39m\u001b[38;5;124m\"\u001b[39m\u001b[38;5;132;01m%s\u001b[39;00m\u001b[38;5;124m\"\u001b[39m\u001b[38;5;124m]\u001b[39m\u001b[38;5;124m'\u001b[39m \u001b[38;5;241m%\u001b[39m value\n\u001b[1;32m--> 861\u001b[0m \u001b[38;5;28;01mreturn\u001b[39;00m \u001b[38;5;28;43mself\u001b[39;49m\u001b[38;5;241;43m.\u001b[39;49m\u001b[43mexecute\u001b[49m\u001b[43m(\u001b[49m\u001b[43mCommand\u001b[49m\u001b[38;5;241;43m.\u001b[39;49m\u001b[43mFIND_ELEMENT\u001b[49m\u001b[43m,\u001b[49m\u001b[43m \u001b[49m\u001b[43m{\u001b[49m\u001b[38;5;124;43m\"\u001b[39;49m\u001b[38;5;124;43musing\u001b[39;49m\u001b[38;5;124;43m\"\u001b[39;49m\u001b[43m:\u001b[49m\u001b[43m \u001b[49m\u001b[43mby\u001b[49m\u001b[43m,\u001b[49m\u001b[43m \u001b[49m\u001b[38;5;124;43m\"\u001b[39;49m\u001b[38;5;124;43mvalue\u001b[39;49m\u001b[38;5;124;43m\"\u001b[39;49m\u001b[43m:\u001b[49m\u001b[43m \u001b[49m\u001b[43mvalue\u001b[49m\u001b[43m}\u001b[49m\u001b[43m)\u001b[49m[\u001b[38;5;124m\"\u001b[39m\u001b[38;5;124mvalue\u001b[39m\u001b[38;5;124m\"\u001b[39m]\n",
      "File \u001b[1;32m~\\anaconda3\\lib\\site-packages\\selenium\\webdriver\\remote\\webdriver.py:444\u001b[0m, in \u001b[0;36mWebDriver.execute\u001b[1;34m(self, driver_command, params)\u001b[0m\n\u001b[0;32m    442\u001b[0m response \u001b[38;5;241m=\u001b[39m \u001b[38;5;28mself\u001b[39m\u001b[38;5;241m.\u001b[39mcommand_executor\u001b[38;5;241m.\u001b[39mexecute(driver_command, params)\n\u001b[0;32m    443\u001b[0m \u001b[38;5;28;01mif\u001b[39;00m response:\n\u001b[1;32m--> 444\u001b[0m     \u001b[38;5;28;43mself\u001b[39;49m\u001b[38;5;241;43m.\u001b[39;49m\u001b[43merror_handler\u001b[49m\u001b[38;5;241;43m.\u001b[39;49m\u001b[43mcheck_response\u001b[49m\u001b[43m(\u001b[49m\u001b[43mresponse\u001b[49m\u001b[43m)\u001b[49m\n\u001b[0;32m    445\u001b[0m     response[\u001b[38;5;124m\"\u001b[39m\u001b[38;5;124mvalue\u001b[39m\u001b[38;5;124m\"\u001b[39m] \u001b[38;5;241m=\u001b[39m \u001b[38;5;28mself\u001b[39m\u001b[38;5;241m.\u001b[39m_unwrap_value(response\u001b[38;5;241m.\u001b[39mget(\u001b[38;5;124m\"\u001b[39m\u001b[38;5;124mvalue\u001b[39m\u001b[38;5;124m\"\u001b[39m, \u001b[38;5;28;01mNone\u001b[39;00m))\n\u001b[0;32m    446\u001b[0m     \u001b[38;5;28;01mreturn\u001b[39;00m response\n",
      "File \u001b[1;32m~\\anaconda3\\lib\\site-packages\\selenium\\webdriver\\remote\\errorhandler.py:249\u001b[0m, in \u001b[0;36mErrorHandler.check_response\u001b[1;34m(self, response)\u001b[0m\n\u001b[0;32m    247\u001b[0m         alert_text \u001b[38;5;241m=\u001b[39m value[\u001b[38;5;124m\"\u001b[39m\u001b[38;5;124malert\u001b[39m\u001b[38;5;124m\"\u001b[39m]\u001b[38;5;241m.\u001b[39mget(\u001b[38;5;124m\"\u001b[39m\u001b[38;5;124mtext\u001b[39m\u001b[38;5;124m\"\u001b[39m)\n\u001b[0;32m    248\u001b[0m     \u001b[38;5;28;01mraise\u001b[39;00m exception_class(message, screen, stacktrace, alert_text)  \u001b[38;5;66;03m# type: ignore[call-arg]  # mypy is not smart enough here\u001b[39;00m\n\u001b[1;32m--> 249\u001b[0m \u001b[38;5;28;01mraise\u001b[39;00m exception_class(message, screen, stacktrace)\n",
      "\u001b[1;31mNoSuchElementException\u001b[0m: Message: no such element: Unable to locate element: {\"method\":\"xpath\",\"selector\":\"//*[@id=\"menubutton300\"]/span/div/span/span\"}\n  (Session info: chrome=109.0.5414.75)\nStacktrace:\nBacktrace:\n\t(No symbol) [0x00816643]\n\t(No symbol) [0x007ABE21]\n\t(No symbol) [0x006ADA9D]\n\t(No symbol) [0x006E1342]\n\t(No symbol) [0x006E147B]\n\t(No symbol) [0x00718DC2]\n\t(No symbol) [0x006FFDC4]\n\t(No symbol) [0x00716B09]\n\t(No symbol) [0x006FFB76]\n\t(No symbol) [0x006D49C1]\n\t(No symbol) [0x006D5E5D]\n\tGetHandleVerifier [0x00A8A142+2497106]\n\tGetHandleVerifier [0x00AB85D3+2686691]\n\tGetHandleVerifier [0x00ABBB9C+2700460]\n\tGetHandleVerifier [0x008C3B10+635936]\n\t(No symbol) [0x007B4A1F]\n\t(No symbol) [0x007BA418]\n\t(No symbol) [0x007BA505]\n\t(No symbol) [0x007C508B]\n\tBaseThreadInitThunk [0x76756BD9+25]\n\tRtlGetFullPathName_UEx [0x77AC8FD2+1218]\n\tRtlGetFullPathName_UEx [0x77AC8F9D+1165]\n"
     ]
    }
   ],
   "source": [
    "#Upload dados de clipping\n",
    "nav = webdriver.Chrome()\n",
    "nav.get(r'https://intercomamericas.app.box.com/folder/0')\n",
    "nav.find_element('xpath', '//*[@id=\"login-email\"]').send_keys('EMAIL', Keys.ENTER)\n",
    "nav.find_element('xpath', '//*[@id=\"password-login\"]').send_keys(r'SENHA', Keys.ENTER)\n",
    "nav.get(r'https://intercomamericas.app.box.com/folder/185246967095')\n",
    "time.sleep(5)\n",
    "nav.find_element('xpath', '//*[@id=\"menubutton20\"]').click()\n",
    "nav.find_element('xpath', '//*[@id=\"menu19\"]/div/div[2]/div/li[3]/span').click()\n",
    "time.sleep(2)\n",
    "nav.find_element('xpath', '/html/body/div[5]/div/div[2]/div/div[2]/form/div[1]/label/input').send_keys(f'{mes}. {mes_relatorio}', Keys.ENTER)\n",
    "nav.find_element('xpath', '/html/body/div[5]/div/div[2]/div/div[2]/form/div[3]/button[2]').click()\n",
    "time.sleep(10)\n",
    "nav.find_element('xpath', '//*[@id=\"contextmenutarget232\"]/div/div[2]/div/div[1]/div[1]/div/a').click()\n",
    "time.sleep(10)\n",
    "nav.find_element('xpath', '//*[@id=\"menubutton328\"]/span/div/span/span').click()\n",
    "time.sleep(5)\n",
    "nav.find_element('xpath', '//*[@id=\"menu299\"]/span/li/span').click()\n",
    "time.sleep(5)\n",
    "pyperclip.copy(r'C:\\Users\\Diogo\\Downloads\\Dados de clipping - BHN - {} de {}'.format(mes_relatorio, ano))\n",
    "pyautogui.click(x=480, y=530)\n",
    "pyautogui.hotkey('ctrl', 'v')\n",
    "pyautogui.press('enter')\n",
    "\n",
    "time.sleep(15)\n",
    "nav.find_element('xpath', '//*[@id=\"menubutton282\"]/span/div').click()\n",
    "time.sleep(3)\n",
    "nav.find_element('xpath', '//*[@id=\"menu281\"]/div/div[2]/div/span/li/span').click()\n",
    "time.sleep(5)\n",
    "pyperclip.copy(r'C:\\Users\\Diogo\\Downloads\\Dados de clipping - Incomm - {} de {}'.format(mes_relatorio, ano))\n",
    "pyautogui.click(x=480, y=530)\n",
    "pyautogui.hotkey('ctrl', 'v')\n",
    "pyautogui.press('enter')\n",
    "\n",
    "time.sleep(15)\n",
    "nav.find_element('xpath', '//*[@id=\"menubutton282\"]/span/div').click()\n",
    "time.sleep(3)\n",
    "nav.find_element('xpath', '//*[@id=\"menu281\"]/div/div[2]/div/span/li/span').click()\n",
    "time.sleep(5)\n",
    "pyperclip.copy(r'C:\\Users\\Diogo\\Downloads\\Dados de clipping - Epay - {} de {}'.format(mes_relatorio, ano))\n",
    "pyautogui.click(x=480, y=530)\n",
    "pyautogui.hotkey('ctrl', 'v')\n",
    "pyautogui.press('enter')\n",
    "time.sleep(15)\n",
    "\n",
    "#Upload dos dados de gráficos atualizados\n",
    "df.to_excel(r'C:\\Users\\Diogo\\Downloads\\Dados para graficos Python.xlsx')\n",
    "nav.get(r'https://intercomamericas.app.box.com/folder/185246967095')\n",
    "time.sleep(3)\n",
    "nav.find_element('xpath', '//*[@id=\"menubutton20\"]/span/div/span').click()\n",
    "time.sleep(3)\n",
    "nav.find_element('xpath', '//*[@id=\"menu19\"]/div/div[2]/div/span/li/span').click()\n",
    "time.sleep(5)\n",
    "pyperclip.copy(r'C:\\Users\\Diogo\\Downloads\\Dados para graficos Python.xlsx')\n",
    "pyautogui.click(x=480, y=530)\n",
    "pyautogui.hotkey('ctrl', 'v')\n",
    "pyautogui.press('enter')\n",
    "\n",
    "time.sleep(15)\n",
    "nav.quit()"
   ]
  }
 ],
 "metadata": {
  "kernelspec": {
   "display_name": "Python 3 (ipykernel)",
   "language": "python",
   "name": "python3"
  },
  "language_info": {
   "codemirror_mode": {
    "name": "ipython",
    "version": 3
   },
   "file_extension": ".py",
   "mimetype": "text/x-python",
   "name": "python",
   "nbconvert_exporter": "python",
   "pygments_lexer": "ipython3",
   "version": "3.9.12"
  }
 },
 "nbformat": 4,
 "nbformat_minor": 5
}
